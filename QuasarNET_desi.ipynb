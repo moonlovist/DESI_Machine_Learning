{
 "cells": [
  {
   "cell_type": "markdown",
   "metadata": {},
   "source": [
    "# Load the environment"
   ]
  },
  {
   "cell_type": "code",
   "execution_count": 203,
   "metadata": {},
   "outputs": [
    {
     "name": "stdout",
     "output_type": "stream",
     "text": [
      "The autoreload extension is already loaded. To reload it, use:\n",
      "  %reload_ext autoreload\n"
     ]
    }
   ],
   "source": [
    "%load_ext autoreload\n",
    "%autoreload 2\n",
    "%matplotlib inline"
   ]
  },
  {
   "cell_type": "code",
   "execution_count": 204,
   "metadata": {},
   "outputs": [],
   "source": [
    "# Common imports\n",
    "import fitsio\n",
    "import numpy as np\n",
    "import os\n",
    "import pandas as pd\n",
    "import sys"
   ]
  },
  {
   "cell_type": "code",
   "execution_count": 205,
   "metadata": {},
   "outputs": [],
   "source": [
    "# To plot pretty figures\n",
    "import matplotlib\n",
    "import matplotlib.pyplot as plt\n",
    "plt.rc('font', size=18)"
   ]
  },
  {
   "cell_type": "code",
   "execution_count": 206,
   "metadata": {},
   "outputs": [],
   "source": [
    "# Tensorflow imports\n",
    "import tensorflow as tf\n",
    "from tensorflow.keras.optimizers import Adam\n",
    "from tensorflow.keras.models import load_model"
   ]
  },
  {
   "cell_type": "code",
   "execution_count": 207,
   "metadata": {},
   "outputs": [],
   "source": [
    "# QuasarNET imports\n",
    "from quasarnet.models import QuasarNET, custom_loss\n",
    "from quasarnet.io import read_truth, read_data, objective, wave\n",
    "from quasarnet.utils import process_preds, absorber_IGM"
   ]
  },
  {
   "cell_type": "code",
   "execution_count": 208,
   "metadata": {},
   "outputs": [],
   "source": [
    "# To make this notebook's output stable across runs\n",
    "def reset_graph(seed=42):\n",
    "    tf.compat.v1.reset_default_graph\n",
    "    tf.random.set_seed(seed)\n",
    "    np.random.seed(seed)"
   ]
  },
  {
   "cell_type": "code",
   "execution_count": null,
   "metadata": {},
   "outputs": [],
   "source": []
  },
  {
   "cell_type": "markdown",
   "metadata": {},
   "source": [
    "# For DESI"
   ]
  },
  {
   "cell_type": "markdown",
   "metadata": {},
   "source": [
    "## Get DESI catalogue"
   ]
  },
  {
   "cell_type": "code",
   "execution_count": 4,
   "metadata": {},
   "outputs": [],
   "source": [
    "def get_calum_data(calum_dir):\n",
    "    file_matching = fitsio.FITS(calum_dir,vstorage='object')\n",
    "    compare_information = pd.DataFrame({\n",
    "    'tileID_desi': file_matching[1]['TILEID'][:].byteswap().newbyteorder(),\n",
    "    'NIGHT_desi': file_matching[1]['NIGHT'][:].byteswap().newbyteorder(),    \n",
    "    'thingid_desi': file_matching[1]['TARGETID'][:].byteswap().newbyteorder(),\n",
    "    'mjd_desi':file_matching[1]['MJD'][:].byteswap().newbyteorder(),\n",
    "    'fib_desi':file_matching[1]['FIBER'][:].byteswap().newbyteorder(),\n",
    "    'z_desi':file_matching[1]['Z'][:].byteswap().newbyteorder()})\n",
    "    return compare_information"
   ]
  },
  {
   "cell_type": "code",
   "execution_count": 105,
   "metadata": {},
   "outputs": [],
   "source": [
    "desi_catalogue = get_calum_data('/global/u1/t/tanting/DESI_analysis/DESI_eboss_match/DESI_eboss_match_quasar.fits')[0:200]"
   ]
  },
  {
   "cell_type": "code",
   "execution_count": 174,
   "metadata": {},
   "outputs": [
    {
     "data": {
      "text/html": [
       "<div>\n",
       "<style scoped>\n",
       "    .dataframe tbody tr th:only-of-type {\n",
       "        vertical-align: middle;\n",
       "    }\n",
       "\n",
       "    .dataframe tbody tr th {\n",
       "        vertical-align: top;\n",
       "    }\n",
       "\n",
       "    .dataframe thead th {\n",
       "        text-align: right;\n",
       "    }\n",
       "</style>\n",
       "<table border=\"1\" class=\"dataframe\">\n",
       "  <thead>\n",
       "    <tr style=\"text-align: right;\">\n",
       "      <th></th>\n",
       "      <th>tileID_desi</th>\n",
       "      <th>NIGHT_desi</th>\n",
       "      <th>thingid_desi</th>\n",
       "      <th>mjd_desi</th>\n",
       "      <th>fib_desi</th>\n",
       "      <th>z_desi</th>\n",
       "    </tr>\n",
       "  </thead>\n",
       "  <tbody>\n",
       "    <tr>\n",
       "      <th>0</th>\n",
       "      <td>80693</td>\n",
       "      <td>20210109</td>\n",
       "      <td>39633561183060922</td>\n",
       "      <td>59224.366280</td>\n",
       "      <td>1465</td>\n",
       "      <td>2.334592</td>\n",
       "    </tr>\n",
       "    <tr>\n",
       "      <th>1</th>\n",
       "      <td>80693</td>\n",
       "      <td>20210109</td>\n",
       "      <td>39633562823033395</td>\n",
       "      <td>59224.366280</td>\n",
       "      <td>4598</td>\n",
       "      <td>1.685592</td>\n",
       "    </tr>\n",
       "    <tr>\n",
       "      <th>2</th>\n",
       "      <td>80620</td>\n",
       "      <td>20201222</td>\n",
       "      <td>39633435047757147</td>\n",
       "      <td>59206.409566</td>\n",
       "      <td>1060</td>\n",
       "      <td>0.901745</td>\n",
       "    </tr>\n",
       "    <tr>\n",
       "      <th>3</th>\n",
       "      <td>80620</td>\n",
       "      <td>20201222</td>\n",
       "      <td>39633437681780838</td>\n",
       "      <td>59206.409566</td>\n",
       "      <td>1328</td>\n",
       "      <td>2.347548</td>\n",
       "    </tr>\n",
       "    <tr>\n",
       "      <th>4</th>\n",
       "      <td>80620</td>\n",
       "      <td>20201222</td>\n",
       "      <td>39633440286442550</td>\n",
       "      <td>59206.409566</td>\n",
       "      <td>1322</td>\n",
       "      <td>2.418898</td>\n",
       "    </tr>\n",
       "    <tr>\n",
       "      <th>...</th>\n",
       "      <td>...</td>\n",
       "      <td>...</td>\n",
       "      <td>...</td>\n",
       "      <td>...</td>\n",
       "      <td>...</td>\n",
       "      <td>...</td>\n",
       "    </tr>\n",
       "    <tr>\n",
       "      <th>195</th>\n",
       "      <td>68001</td>\n",
       "      <td>20200315</td>\n",
       "      <td>35191263049287474</td>\n",
       "      <td>58924.243849</td>\n",
       "      <td>1354</td>\n",
       "      <td>1.674370</td>\n",
       "    </tr>\n",
       "    <tr>\n",
       "      <th>196</th>\n",
       "      <td>68001</td>\n",
       "      <td>20200315</td>\n",
       "      <td>35191263057674549</td>\n",
       "      <td>58924.243849</td>\n",
       "      <td>780</td>\n",
       "      <td>3.151830</td>\n",
       "    </tr>\n",
       "    <tr>\n",
       "      <th>197</th>\n",
       "      <td>68000</td>\n",
       "      <td>20200314</td>\n",
       "      <td>35191263057674777</td>\n",
       "      <td>58923.253473</td>\n",
       "      <td>770</td>\n",
       "      <td>-0.001996</td>\n",
       "    </tr>\n",
       "    <tr>\n",
       "      <th>198</th>\n",
       "      <td>70006</td>\n",
       "      <td>20200305</td>\n",
       "      <td>35191263057675964</td>\n",
       "      <td>58914.480349</td>\n",
       "      <td>947</td>\n",
       "      <td>1.925483</td>\n",
       "    </tr>\n",
       "    <tr>\n",
       "      <th>199</th>\n",
       "      <td>68001</td>\n",
       "      <td>20200315</td>\n",
       "      <td>35191263057676977</td>\n",
       "      <td>58924.243849</td>\n",
       "      <td>1042</td>\n",
       "      <td>-0.001996</td>\n",
       "    </tr>\n",
       "  </tbody>\n",
       "</table>\n",
       "<p>200 rows × 6 columns</p>\n",
       "</div>"
      ],
      "text/plain": [
       "     tileID_desi  NIGHT_desi       thingid_desi      mjd_desi  fib_desi  \\\n",
       "0          80693    20210109  39633561183060922  59224.366280      1465   \n",
       "1          80693    20210109  39633562823033395  59224.366280      4598   \n",
       "2          80620    20201222  39633435047757147  59206.409566      1060   \n",
       "3          80620    20201222  39633437681780838  59206.409566      1328   \n",
       "4          80620    20201222  39633440286442550  59206.409566      1322   \n",
       "..           ...         ...                ...           ...       ...   \n",
       "195        68001    20200315  35191263049287474  58924.243849      1354   \n",
       "196        68001    20200315  35191263057674549  58924.243849       780   \n",
       "197        68000    20200314  35191263057674777  58923.253473       770   \n",
       "198        70006    20200305  35191263057675964  58914.480349       947   \n",
       "199        68001    20200315  35191263057676977  58924.243849      1042   \n",
       "\n",
       "       z_desi  \n",
       "0    2.334592  \n",
       "1    1.685592  \n",
       "2    0.901745  \n",
       "3    2.347548  \n",
       "4    2.418898  \n",
       "..        ...  \n",
       "195  1.674370  \n",
       "196  3.151830  \n",
       "197 -0.001996  \n",
       "198  1.925483  \n",
       "199 -0.001996  \n",
       "\n",
       "[200 rows x 6 columns]"
      ]
     },
     "execution_count": 174,
     "metadata": {},
     "output_type": "execute_result"
    }
   ],
   "source": [
    "desi_catalogue"
   ]
  },
  {
   "cell_type": "code",
   "execution_count": 225,
   "metadata": {},
   "outputs": [],
   "source": [
    "import pdb\n",
    "import fnmatch\n",
    "from scipy.interpolate import splev, splrep"
   ]
  },
  {
   "cell_type": "code",
   "execution_count": 247,
   "metadata": {},
   "outputs": [
    {
     "name": "stdout",
     "output_type": "stream",
     "text": [
      "finish searching for 200 targets, with 21 targets found\n"
     ]
    }
   ],
   "source": [
    "data_desi = {'tileID_desi':[], 'NIGHT_desi': [], 'thingid_desi': [], 'mjd_desi': [], 'fib_desi':[], 'z_desi':[], 'flux':[]}\n",
    "date = []\n",
    "fail_expoture = 0\n",
    "release= 'daily'\n",
    "dir_desi = '/global/cfs/cdirs/desi/spectro/redux/'+release+'/tiles'\n",
    "for i,dir_tile,dir_night in zip(desi_catalogue.index,desi_catalogue.tileID_desi,desi_catalogue.NIGHT_desi):\n",
    "    dir_total=dir_desi+'/'+str(dir_tile)+'/'+str(dir_night)\n",
    "    file_total = []\n",
    "    file_cframe = []\n",
    "    # pdb.set_trace()\n",
    "    try:\n",
    "        for file in os.listdir(dir_total):\n",
    "            if fnmatch.fnmatch(file, 'coadd*.fits'):\n",
    "                file_total.append(dir_total+'/'+file)\n",
    "            if fnmatch.fnmatch(file, 'cframe-b*.fits'):\n",
    "                file_cframe.append(dir_total+'/'+file)\n",
    "        for coadd_file in file_total:\n",
    "            file = fitsio.FITS(coadd_file,vstorage='object')\n",
    "            place = np.where(file['FIBERMAP']['TARGETID'][:]==desi_catalogue.thingid_desi[i])\n",
    "            if place[0].any():\n",
    "                if not desi_catalogue.thingid_desi[i] in data_desi['thingid_desi']:\n",
    "                    order = int(place[0][0])\n",
    "                    if desi_catalogue.fib_desi[i]==file['FIBERMAP']['FIBER'][:][order]:\n",
    "                        try:\n",
    "                            if desi_catalogue.z_desi[i] > 2.1:\n",
    "                                flux = file['BRZ_FLUX'][order,:][0]\n",
    "                                ivar = file['BRZ_IVAR'][order,:][0]\n",
    "                                # wavelength = file['BRZ_WAVELENGTH'][:]\n",
    "                                flux_nor = flux * np.sqrt(ivar) - np.mean(flux)\n",
    "                                # flux_func = splrep(wavelength, flux_nor)\n",
    "                                flux_final = flux_nor[:443]\n",
    "                                data_desi['flux'].append(np.transpose(flux_final.tolist()))\n",
    "                                data_desi['tileID_desi'].append(desi_catalogue.tileID_desi[i])\n",
    "                                data_desi['NIGHT_desi'].append(desi_catalogue.NIGHT_desi[i])\n",
    "                                data_desi['thingid_desi'].append(desi_catalogue.thingid_desi[i])\n",
    "                                data_desi['mjd_desi'].append(desi_catalogue.mjd_desi[i])\n",
    "                                data_desi['fib_desi'].append(desi_catalogue.fib_desi[i])\n",
    "                                data_desi['z_desi'].append(desi_catalogue.z_desi[i])\n",
    "                                # len 7781\n",
    "                        except:\n",
    "                            continue\n",
    "                            # flux = np.hstack((file['B_FLUX'][order,:][0],file['R_FLUX'][order,:][0],file['Z_FLUX'][order,:][0]))\n",
    "                            # len 7958\n",
    "                        \n",
    "    except:\n",
    "        # print('Wrong directory')\n",
    "        continue\n",
    "print('finish searching for {} targets, with {} targets found'.format(desi_catalogue.index[-1]+1,len(data_desi['flux'])))\n"
   ]
  },
  {
   "cell_type": "code",
   "execution_count": 135,
   "metadata": {},
   "outputs": [
    {
     "data": {
      "text/plain": [
       "\n",
       "  file: /global/cfs/projectdirs/desi/users/jfarr/ML_TensorFlow_tutorial/truth_68002.fits\n",
       "  extension: 1\n",
       "  type: BINARY_TBL\n",
       "  rows: 917\n",
       "  column info:\n",
       "    THING_ID            i8  \n",
       "    Z_VI                f8  \n",
       "    PLATE               S8  \n",
       "    MJD                 i4  \n",
       "    FIBERID             i4  \n",
       "    CLASS_PERSON        f8  \n",
       "    BAL_FLAG_VI         f8  \n",
       "    BI_CIV              f8  \n",
       "    Z_CONF_PERSON       i8  "
      ]
     },
     "execution_count": 135,
     "metadata": {},
     "output_type": "execute_result"
    }
   ],
   "source": [
    "DESI_quasar = fitsio.FITS('/global/cfs/projectdirs/desi/users/jfarr/ML_TensorFlow_tutorial/truth_68002.fits',vstorage='object')\n",
    "DESI_quasar[1]"
   ]
  },
  {
   "cell_type": "code",
   "execution_count": null,
   "metadata": {},
   "outputs": [],
   "source": []
  },
  {
   "cell_type": "code",
   "execution_count": 231,
   "metadata": {},
   "outputs": [],
   "source": [
    "from astropy.io import fits\n",
    "from astropy.io.fits import Column\n",
    "len_data = len(data_desi['thingid_desi'])\n",
    "a1 = Column(name='THING_ID', format='1K', array=data_desi['thingid_desi'])\n",
    "a2 = Column(name='Z_VI', format='1D', array=data_desi['z_desi'])\n",
    "a3 = Column(name='MJD', format='1D', array=data_desi['mjd_desi'])\n",
    "a4 = Column(name='FIBERID', format='1K', array=data_desi['fib_desi'])\n",
    "a5 = Column(name='tileID', format='1K', array=data_desi['tileID_desi'])\n",
    "a6 = Column(name='NIGHT', format='1K', array=data_desi['NIGHT_desi'])\n",
    "data = np.array(data_desi['flux']).reshape(len(data_desi['flux']),-1)\n",
    "hdr = fits.Header()\n",
    "primary_hdu = fits.PrimaryHDU(data,header=hdr)\n",
    "hdu = fits.BinTableHDU.from_columns([a1, a2, a3, a4, a5, a6])\n",
    "thdulist = fits.HDUList([primary_hdu,hdu])\n",
    "thdulist.writeto('/global/homes/t/tanting/Machine_Learning_quasar/QuasarNET/desi_catalogue.fits',overwrite=True)"
   ]
  },
  {
   "cell_type": "code",
   "execution_count": 155,
   "metadata": {},
   "outputs": [
    {
     "data": {
      "text/plain": [
       "numpy.ndarray"
      ]
     },
     "execution_count": 155,
     "metadata": {},
     "output_type": "execute_result"
    }
   ],
   "source": [
    "test = fitsio.FITS('/global/homes/t/tanting/Machine_Learning_quasar/QuasarNET/desi_catalogue.fits',vstorage='object')\n"
   ]
  },
  {
   "cell_type": "code",
   "execution_count": 147,
   "metadata": {},
   "outputs": [
    {
     "data": {
      "text/plain": [
       "\n",
       "  file: /global/cfs/projectdirs/desi/users/jfarr/ML_TensorFlow_tutorial/truth_68002.fits\n",
       "  extension: 0\n",
       "  type: IMAGE_HDU\n",
       "  image info:\n",
       "    data type: u1\n",
       "    dims: []"
      ]
     },
     "execution_count": 147,
     "metadata": {},
     "output_type": "execute_result"
    }
   ],
   "source": [
    "DESI_quasar = fitsio.FITS('/global/cfs/projectdirs/desi/users/jfarr/ML_TensorFlow_tutorial/truth_68002.fits',vstorage='object')\n",
    "DESI_quasar[0]"
   ]
  },
  {
   "cell_type": "code",
   "execution_count": 146,
   "metadata": {},
   "outputs": [
    {
     "data": {
      "text/plain": [
       "\n",
       "  file: /global/cfs/projectdirs/desi/users/jfarr/ML_TensorFlow_tutorial/data_andes_68002_20200315.fits\n",
       "  extension: 0\n",
       "  type: IMAGE_HDU\n",
       "  image info:\n",
       "    data type: f8\n",
       "    dims: [1275,868]"
      ]
     },
     "execution_count": 146,
     "metadata": {},
     "output_type": "execute_result"
    }
   ],
   "source": [
    "DESI_quasar = fitsio.FITS('/global/cfs/projectdirs/desi/users/jfarr/ML_TensorFlow_tutorial/data_andes_68002_20200315.fits',vstorage='object')\n",
    "DESI_quasar[0]"
   ]
  },
  {
   "cell_type": "code",
   "execution_count": null,
   "metadata": {},
   "outputs": [],
   "source": []
  },
  {
   "cell_type": "code",
   "execution_count": null,
   "metadata": {},
   "outputs": [],
   "source": []
  },
  {
   "cell_type": "code",
   "execution_count": null,
   "metadata": {},
   "outputs": [],
   "source": []
  },
  {
   "cell_type": "code",
   "execution_count": null,
   "metadata": {},
   "outputs": [],
   "source": []
  },
  {
   "cell_type": "code",
   "execution_count": null,
   "metadata": {},
   "outputs": [],
   "source": []
  },
  {
   "cell_type": "code",
   "execution_count": null,
   "metadata": {},
   "outputs": [],
   "source": []
  },
  {
   "cell_type": "code",
   "execution_count": null,
   "metadata": {},
   "outputs": [],
   "source": []
  },
  {
   "cell_type": "code",
   "execution_count": null,
   "metadata": {},
   "outputs": [],
   "source": []
  },
  {
   "cell_type": "code",
   "execution_count": null,
   "metadata": {},
   "outputs": [],
   "source": []
  },
  {
   "cell_type": "code",
   "execution_count": 156,
   "metadata": {},
   "outputs": [],
   "source": [
    "lines = ['LYA','CIV(1548)','CIII(1909)', 'MgII(2796)','Hbeta','Halpha']\n",
    "loss = [custom_loss]*(len(lines))"
   ]
  },
  {
   "cell_type": "code",
   "execution_count": 234,
   "metadata": {},
   "outputs": [
    {
     "data": {
      "text/plain": [
       "\n",
       "  file: /global/homes/t/tanting/Machine_Learning_quasar/QuasarNET/desi_catalogue.fits\n",
       "  extension: 1\n",
       "  type: BINARY_TBL\n",
       "  rows: 154\n",
       "  column info:\n",
       "    THING_ID            i8  \n",
       "    Z_VI                f8  \n",
       "    MJD                 f8  \n",
       "    FIBERID             i8  \n",
       "    tileID              i8  \n",
       "    NIGHT               i8  "
      ]
     },
     "execution_count": 234,
     "metadata": {},
     "output_type": "execute_result"
    }
   ],
   "source": [
    "desi_quasar_data = fitsio.FITS('/global/homes/t/tanting/Machine_Learning_quasar/QuasarNET/desi_catalogue.fits',vstorage='object')\n",
    "desi_quasar_data[1]"
   ]
  },
  {
   "cell_type": "code",
   "execution_count": 235,
   "metadata": {},
   "outputs": [],
   "source": [
    "X_desi = desi_quasar_data[0][:,:]\n",
    "Y_desi = np.array([desi_quasar_data[1]['tileID'][:],desi_quasar_data[1]['NIGHT'][:],desi_quasar_data[1]['THING_ID'][:],desi_quasar_data[1]['MJD'][:],desi_quasar_data[1]['FIBERID'][:]])\n",
    "z_desi = desi_quasar_data[1]['Z_VI'][:]"
   ]
  },
  {
   "cell_type": "code",
   "execution_count": 211,
   "metadata": {},
   "outputs": [],
   "source": [
    "ntrain = 100\n",
    "nepochs = 5"
   ]
  },
  {
   "cell_type": "code",
   "execution_count": 201,
   "metadata": {},
   "outputs": [],
   "source": [
    "model = QuasarNET((X_train.shape[1],1), nlines=len(lines))"
   ]
  },
  {
   "cell_type": "code",
   "execution_count": 209,
   "metadata": {},
   "outputs": [],
   "source": [
    "model.compile(optimizer=Adam(), loss=loss, metrics=[])"
   ]
  },
  {
   "cell_type": "code",
   "execution_count": 212,
   "metadata": {},
   "outputs": [
    {
     "ename": "TypeError",
     "evalue": "objective() missing 1 required positional argument: 'bal'",
     "output_type": "error",
     "traceback": [
      "\u001b[0;31m---------------------------------------------------------------------------\u001b[0m",
      "\u001b[0;31mTypeError\u001b[0m                                 Traceback (most recent call last)",
      "\u001b[0;32m<ipython-input-212-01f07d93e914>\u001b[0m in \u001b[0;36m<module>\u001b[0;34m\u001b[0m\n\u001b[0;32m----> 1\u001b[0;31m \u001b[0mtarget\u001b[0m\u001b[0;34m,\u001b[0m \u001b[0msample_weight\u001b[0m \u001b[0;34m=\u001b[0m \u001b[0mobjective\u001b[0m\u001b[0;34m(\u001b[0m\u001b[0mz_train\u001b[0m\u001b[0;34m[\u001b[0m\u001b[0;34m:\u001b[0m\u001b[0mntrain\u001b[0m\u001b[0;34m]\u001b[0m\u001b[0;34m,\u001b[0m\u001b[0mY_train\u001b[0m\u001b[0;34m[\u001b[0m\u001b[0;34m:\u001b[0m\u001b[0mntrain\u001b[0m\u001b[0;34m]\u001b[0m\u001b[0;34m,\u001b[0m\u001b[0mlines\u001b[0m\u001b[0;34m=\u001b[0m\u001b[0mlines\u001b[0m\u001b[0;34m)\u001b[0m\u001b[0;34m\u001b[0m\u001b[0;34m\u001b[0m\u001b[0m\n\u001b[0m\u001b[1;32m      2\u001b[0m \u001b[0mloss_history\u001b[0m \u001b[0;34m=\u001b[0m \u001b[0mmodel\u001b[0m\u001b[0;34m.\u001b[0m\u001b[0mfit\u001b[0m\u001b[0;34m(\u001b[0m\u001b[0mX_train\u001b[0m\u001b[0;34m[\u001b[0m\u001b[0;34m:\u001b[0m\u001b[0mntrain\u001b[0m\u001b[0;34m,\u001b[0m\u001b[0;34m:\u001b[0m\u001b[0;34m,\u001b[0m\u001b[0;32mNone\u001b[0m\u001b[0;34m]\u001b[0m\u001b[0;34m,\u001b[0m \u001b[0mtarget\u001b[0m\u001b[0;34m,\u001b[0m \u001b[0mepochs\u001b[0m\u001b[0;34m=\u001b[0m\u001b[0mnepochs\u001b[0m\u001b[0;34m,\u001b[0m \u001b[0mbatch_size\u001b[0m\u001b[0;34m=\u001b[0m\u001b[0;36m32\u001b[0m\u001b[0;34m,\u001b[0m \u001b[0msample_weight\u001b[0m\u001b[0;34m=\u001b[0m\u001b[0msample_weight\u001b[0m\u001b[0;34m)\u001b[0m\u001b[0;34m\u001b[0m\u001b[0;34m\u001b[0m\u001b[0m\n",
      "\u001b[0;31mTypeError\u001b[0m: objective() missing 1 required positional argument: 'bal'"
     ]
    }
   ],
   "source": [
    "target, sample_weight = objective(z_train[:ntrain],Y_train[:ntrain],lines=lines)\n",
    "loss_history = model.fit(X_train[:ntrain,:,None], target, epochs=nepochs, batch_size=32, sample_weight=sample_weight)"
   ]
  },
  {
   "cell_type": "code",
   "execution_count": null,
   "metadata": {},
   "outputs": [],
   "source": []
  },
  {
   "cell_type": "code",
   "execution_count": 236,
   "metadata": {},
   "outputs": [
    {
     "data": {
      "text/plain": [
       "(154, 443)"
      ]
     },
     "execution_count": 236,
     "metadata": {},
     "output_type": "execute_result"
    }
   ],
   "source": [
    "X_desi.shape"
   ]
  },
  {
   "cell_type": "code",
   "execution_count": 226,
   "metadata": {},
   "outputs": [
    {
     "data": {
      "text/plain": [
       "(2412, 443)"
      ]
     },
     "execution_count": 226,
     "metadata": {},
     "output_type": "execute_result"
    }
   ],
   "source": [
    "X_val.shape"
   ]
  },
  {
   "cell_type": "code",
   "execution_count": 246,
   "metadata": {},
   "outputs": [
    {
     "data": {
      "text/plain": [
       "array([[1., 0., 0., 0., 0.],\n",
       "       [1., 0., 0., 0., 0.],\n",
       "       [1., 0., 0., 0., 0.],\n",
       "       ...,\n",
       "       [0., 0., 0., 1., 0.],\n",
       "       [0., 0., 0., 1., 0.],\n",
       "       [0., 1., 0., 0., 0.]])"
      ]
     },
     "execution_count": 246,
     "metadata": {},
     "output_type": "execute_result"
    }
   ],
   "source": [
    "Y_val"
   ]
  },
  {
   "cell_type": "code",
   "execution_count": 237,
   "metadata": {},
   "outputs": [
    {
     "name": "stderr",
     "output_type": "stream",
     "text": [
      "No handles with labels found to put in legend.\n"
     ]
    },
    {
     "data": {
      "image/png": "[encoded data removed]",
      "text/plain": [
       "<Figure size 432x288 with 1 Axes>"
      ]
     },
     "metadata": {
      "needs_background": "light"
     },
     "output_type": "display_data"
    }
   ],
   "source": [
    "plt.figure()\n",
    "wave_desi = np.linspace(0,1000,len(X_desi[0]))\n",
    "wave_val = np.linspace(0,1000,len(X_val[0]))\n",
    "for num in range(5):\n",
    "    plt.plot(wave_desi,X_desi[num],color = 'orange')\n",
    "    plt.plot(wave_val,X_val[num],color = 'blue')\n",
    "\n",
    "plt.legend()\n",
    "plt.show()"
   ]
  },
  {
   "cell_type": "code",
   "execution_count": 213,
   "metadata": {},
   "outputs": [
    {
     "name": "stdout",
     "output_type": "stream",
     "text": [
      "INFO: reading data from /global/cfs/projectdirs/desi/users/jfarr/ML_TensorFlow_tutorial/data_dr12.fits\n",
      "INFO: removing 82 spectra missing in truth\n",
      "INFO: found (29786,) spectra in file /global/cfs/projectdirs/desi/users/jfarr/ML_TensorFlow_tutorial/data_dr12.fits\n",
      "INFO: removing 40 spectra with zero weights\n",
      "INFO: removing 0 spectra with zero flux\n",
      "Epoch 1/5\n",
      "313/313 [==============================] - 9s 30ms/step - loss: 1.2095 - conc_box_0_loss: 0.1768 - conc_box_1_loss: 0.2029 - conc_box_2_loss: 0.2253 - conc_box_3_loss: 0.2081 - conc_box_4_loss: 0.1540 - conc_box_5_loss: 0.0889 - conc_box_6_loss: 0.1535\n",
      "Epoch 2/5\n",
      "313/313 [==============================] - 8s 26ms/step - loss: 0.2689 - conc_box_0_loss: 0.0382 - conc_box_1_loss: 0.0472 - conc_box_2_loss: 0.0581 - conc_box_3_loss: 0.0554 - conc_box_4_loss: 0.0240 - conc_box_5_loss: 0.0088 - conc_box_6_loss: 0.0372\n",
      "Epoch 3/5\n",
      "313/313 [==============================] - 8s 27ms/step - loss: 0.1517 - conc_box_0_loss: 0.0229 - conc_box_1_loss: 0.0271 - conc_box_2_loss: 0.0327 - conc_box_3_loss: 0.0313 - conc_box_4_loss: 0.0117 - conc_box_5_loss: 0.0048 - conc_box_6_loss: 0.0212: 1s - loss: 0.1548 - conc_box_0_loss: 0.0239 - conc_box_1_loss: 0.0274 - conc_box_2_loss: 0.0332 - conc_box_3_loss: 0.0315 - conc_box_4_loss: 0.0120 - conc_box_5_loss: 0.0051 - conc_box_6_loss: 0. - ETA: 0s - loss: 0.1531 - conc_box_0_loss: 0.0234 - conc_box_1_loss: 0.0270 - conc_box_2_loss: 0.0328 - conc_box_3_loss: 0.0315 - conc_box_4_loss: 0.0120 - conc_box_5_loss: 0.0050 - conc_box_6_l\n",
      "Epoch 4/5\n",
      "313/313 [==============================] - 8s 25ms/step - loss: 0.1027 - conc_box_0_loss: 0.0159 - conc_box_1_loss: 0.0180 - conc_box_2_loss: 0.0229 - conc_box_3_loss: 0.0212 - conc_box_4_loss: 0.0077 - conc_box_5_loss: 0.0025 - conc_box_6_loss: 0.0145\n",
      "Epoch 5/5\n",
      "313/313 [==============================] - 8s 25ms/step - loss: 0.0737 - conc_box_0_loss: 0.0126 - conc_box_1_loss: 0.0126 - conc_box_2_loss: 0.0172 - conc_box_3_loss: 0.0148 - conc_box_4_loss: 0.0051 - conc_box_5_loss: 0.0014 - conc_box_6_loss: 0.0100: 0s - loss: 0.0742 - conc_box_0_loss: 0.0127 - conc_box_1_loss: 0.0126 - conc_box_2_loss: 0.0172 - conc_box_3_loss: 0.0149 - conc_box_4_loss: 0.0052 - conc_box_5_loss: 0.0014 - conc_box_6_loss\n"
     ]
    }
   ],
   "source": [
    "lines = ['LYA','CIV(1548)','CIII(1909)', 'MgII(2796)','Hbeta','Halpha']\n",
    "lines_bal = ['CIV(1548)']\n",
    "loss = [custom_loss]*(len(lines)+len(lines_bal))\n",
    "nspec = 30000\n",
    "truth_file=(['/global/cfs/projectdirs/desi/users/jfarr/ML_TensorFlow_tutorial/truth_DR12Q.fits'])\n",
    "truth = read_truth(truth_file)\n",
    "tids_full,X_full,Y_full,z_full,bal_full = read_data(['/global/cfs/projectdirs/desi/users/jfarr/ML_TensorFlow_tutorial/data_dr12.fits'], truth, nspec=nspec)\n",
    "\n",
    "# Load the training data.\n",
    "data_file = '/global/cfs/projectdirs/desi/users/jfarr/ML_TensorFlow_tutorial/data_train_0.fits'\n",
    "h = fitsio.FITS(data_file)\n",
    "tids_train = h[1]['TARGETID'][:]\n",
    "w = np.in1d(tids_full, tids_train)\n",
    "X_train = X_full[w]\n",
    "Y_train = Y_full[w]\n",
    "z_train = z_full[w]\n",
    "bal_train = bal_full[w]\n",
    "\n",
    "# To get the validation data, remove the spectra in the training sample from the full sample\n",
    "w = ~np.in1d(tids_full, tids_train)\n",
    "tids_val = tids_full[w]\n",
    "X_val = X_full[w]\n",
    "Y_val = Y_full[w]\n",
    "z_val = z_full[w]\n",
    "bal_val = bal_full[w]\n",
    "ntrain = 10000\n",
    "nepochs = 5\n",
    "model = QuasarNET((X_train.shape[1],1), nlines=len(lines)+len(lines_bal))\n",
    "model.compile(optimizer=Adam(), loss=loss, metrics=[])\n",
    "\n",
    "target, sample_weight = objective(z_train[:ntrain],Y_train[:ntrain],bal_train[:ntrain],lines=lines,lines_bal=lines_bal)\n",
    "loss_history = model.fit(X_train[:ntrain,:,None], target, epochs=nepochs, batch_size=32, sample_weight=sample_weight)"
   ]
  },
  {
   "cell_type": "code",
   "execution_count": null,
   "metadata": {},
   "outputs": [],
   "source": []
  },
  {
   "cell_type": "code",
   "execution_count": 238,
   "metadata": {},
   "outputs": [
    {
     "name": "stdout",
     "output_type": "stream",
     "text": [
      "INFO: nspec = 154, nboxes=13\n"
     ]
    }
   ],
   "source": [
    "p = model.predict(X_desi[:,:,None])\n",
    "c_line, z_line, zbest, c_line_bal, z_line_bal = process_preds(p, lines, lines_bal)"
   ]
  },
  {
   "cell_type": "code",
   "execution_count": 239,
   "metadata": {},
   "outputs": [],
   "source": [
    "ndetect = 1\n",
    "c_th = 0.5"
   ]
  },
  {
   "cell_type": "code",
   "execution_count": 240,
   "metadata": {},
   "outputs": [],
   "source": [
    "def plot_spectrum(ival,X,c_line,z_line,zbest,Y,z,c_th=0.5,ndetect=1):\n",
    "    \n",
    "    fig, ax = plt.subplots(1,1,figsize=(10,6))\n",
    "    ax.plot(wave, X[ival,:])\n",
    "    \n",
    "    isqso_truth = (Y[ival,:].argmax()==2) | (Y[ival,:].argmax()==3)\n",
    "    isqso_qn = (c_line[:,ival].sum()>c_th)>=ndetect\n",
    "    \n",
    "    title = r'Is QSO? VI: {}, QN: {}'.format(isqso_truth,isqso_qn)\n",
    "    title += '\\n'\n",
    "    title += r'$z_{{VI}}$={:1.3f}, $z_{{QN}}$='.format(z[ival])\n",
    "    if isqso_qn:\n",
    "        title += r'{:1.3f}'.format(zbest[ival])\n",
    "    else:\n",
    "        title += 'N/A'\n",
    "    \n",
    "    ax.set_title(title)\n",
    "    m = X[ival,:].min()\n",
    "    M = X[ival,:].max()\n",
    "    ax.grid()\n",
    "    ax.set_ylim(m-2,M+2)\n",
    "    for il,l in enumerate(lines):\n",
    "        lam = absorber_IGM[l]*(1+z_line[il,ival])\n",
    "        w = abs(wave-lam)<100\n",
    "        if w.sum()>0:\n",
    "            m = X[ival,w].min()-1\n",
    "            M = X[ival,w].max()+1\n",
    "            ax.plot([lam,lam], [m,M],'r--', alpha=0.1+0.9*c_line[il,ival])\n",
    "            ax.text(lam,M+0.5,'c$_{{{}}}={}$'.format(l,round(c_line[il,ival],3)),\n",
    "                     horizontalalignment='center',alpha=0.1+0.9*c_line[il,ival])\n",
    "    ax.set_xlabel(r'$\\lambda_\\mathrm{obs}~[\\AA]$')\n",
    "    ax.set_ylabel(r'renormalised flux')\n",
    "    plt.show()\n",
    "    \n",
    "    return"
   ]
  },
  {
   "cell_type": "code",
   "execution_count": 243,
   "metadata": {},
   "outputs": [
    {
     "ename": "IndexError",
     "evalue": "index 10 is out of bounds for axis 0 with size 5",
     "output_type": "error",
     "traceback": [
      "\u001b[0;31m---------------------------------------------------------------------------\u001b[0m",
      "\u001b[0;31mIndexError\u001b[0m                                Traceback (most recent call last)",
      "\u001b[0;32m<ipython-input-243-42d3439cd618>\u001b[0m in \u001b[0;36m<module>\u001b[0;34m\u001b[0m\n\u001b[0;32m----> 1\u001b[0;31m \u001b[0mplot_spectrum\u001b[0m\u001b[0;34m(\u001b[0m\u001b[0;36m10\u001b[0m\u001b[0;34m,\u001b[0m\u001b[0mX_desi\u001b[0m\u001b[0;34m,\u001b[0m\u001b[0mc_line\u001b[0m\u001b[0;34m,\u001b[0m\u001b[0mz_line\u001b[0m\u001b[0;34m,\u001b[0m\u001b[0mzbest\u001b[0m\u001b[0;34m,\u001b[0m\u001b[0mY_desi\u001b[0m\u001b[0;34m,\u001b[0m\u001b[0mz_desi\u001b[0m\u001b[0;34m,\u001b[0m\u001b[0mc_th\u001b[0m\u001b[0;34m=\u001b[0m\u001b[0mc_th\u001b[0m\u001b[0;34m,\u001b[0m\u001b[0mndetect\u001b[0m\u001b[0;34m=\u001b[0m\u001b[0mndetect\u001b[0m\u001b[0;34m)\u001b[0m\u001b[0;34m\u001b[0m\u001b[0;34m\u001b[0m\u001b[0m\n\u001b[0m",
      "\u001b[0;32m<ipython-input-240-62a6499facf4>\u001b[0m in \u001b[0;36mplot_spectrum\u001b[0;34m(ival, X, c_line, z_line, zbest, Y, z, c_th, ndetect)\u001b[0m\n\u001b[1;32m      4\u001b[0m     \u001b[0max\u001b[0m\u001b[0;34m.\u001b[0m\u001b[0mplot\u001b[0m\u001b[0;34m(\u001b[0m\u001b[0mwave\u001b[0m\u001b[0;34m,\u001b[0m \u001b[0mX\u001b[0m\u001b[0;34m[\u001b[0m\u001b[0mival\u001b[0m\u001b[0;34m,\u001b[0m\u001b[0;34m:\u001b[0m\u001b[0;34m]\u001b[0m\u001b[0;34m)\u001b[0m\u001b[0;34m\u001b[0m\u001b[0;34m\u001b[0m\u001b[0m\n\u001b[1;32m      5\u001b[0m \u001b[0;34m\u001b[0m\u001b[0m\n\u001b[0;32m----> 6\u001b[0;31m     \u001b[0misqso_truth\u001b[0m \u001b[0;34m=\u001b[0m \u001b[0;34m(\u001b[0m\u001b[0mY\u001b[0m\u001b[0;34m[\u001b[0m\u001b[0mival\u001b[0m\u001b[0;34m,\u001b[0m\u001b[0;34m:\u001b[0m\u001b[0;34m]\u001b[0m\u001b[0;34m.\u001b[0m\u001b[0margmax\u001b[0m\u001b[0;34m(\u001b[0m\u001b[0;34m)\u001b[0m\u001b[0;34m==\u001b[0m\u001b[0;36m2\u001b[0m\u001b[0;34m)\u001b[0m \u001b[0;34m|\u001b[0m \u001b[0;34m(\u001b[0m\u001b[0mY\u001b[0m\u001b[0;34m[\u001b[0m\u001b[0mival\u001b[0m\u001b[0;34m,\u001b[0m\u001b[0;34m:\u001b[0m\u001b[0;34m]\u001b[0m\u001b[0;34m.\u001b[0m\u001b[0margmax\u001b[0m\u001b[0;34m(\u001b[0m\u001b[0;34m)\u001b[0m\u001b[0;34m==\u001b[0m\u001b[0;36m3\u001b[0m\u001b[0;34m)\u001b[0m\u001b[0;34m\u001b[0m\u001b[0;34m\u001b[0m\u001b[0m\n\u001b[0m\u001b[1;32m      7\u001b[0m     \u001b[0misqso_qn\u001b[0m \u001b[0;34m=\u001b[0m \u001b[0;34m(\u001b[0m\u001b[0mc_line\u001b[0m\u001b[0;34m[\u001b[0m\u001b[0;34m:\u001b[0m\u001b[0;34m,\u001b[0m\u001b[0mival\u001b[0m\u001b[0;34m]\u001b[0m\u001b[0;34m.\u001b[0m\u001b[0msum\u001b[0m\u001b[0;34m(\u001b[0m\u001b[0;34m)\u001b[0m\u001b[0;34m>\u001b[0m\u001b[0mc_th\u001b[0m\u001b[0;34m)\u001b[0m\u001b[0;34m>=\u001b[0m\u001b[0mndetect\u001b[0m\u001b[0;34m\u001b[0m\u001b[0;34m\u001b[0m\u001b[0m\n\u001b[1;32m      8\u001b[0m \u001b[0;34m\u001b[0m\u001b[0m\n",
      "\u001b[0;31mIndexError\u001b[0m: index 10 is out of bounds for axis 0 with size 5"
     ]
    },
    {
     "data": {
      "image/png": "[encoded data removed]",
      "text/plain": [
       "<Figure size 720x432 with 1 Axes>"
      ]
     },
     "metadata": {
      "needs_background": "light"
     },
     "output_type": "display_data"
    }
   ],
   "source": [
    "plot_spectrum(10,X_desi,c_line,z_line,zbest,Y_desi,z_desi,c_th=c_th,ndetect=ndetect)"
   ]
  },
  {
   "cell_type": "code",
   "execution_count": null,
   "metadata": {},
   "outputs": [],
   "source": [
    "fig, ax = plt.subplots(1,1,figsize=(10,6))\n",
    "\n",
    "# Set up our arrays.\n",
    "c_th = np.arange(0,1,0.01)\n",
    "pur = c_th*0\n",
    "com = c_th*0\n",
    "dv_max = 6000./300000.\n",
    "\n",
    "# Determine which objects are true QSOs, and which are \"bad\"\n",
    "isqso_truth = (Y_val.argmax(axis=1)==2) | (Y_val.argmax(axis=1)==3)\n",
    "is_bad = Y_val.argmax(axis=1)==4\n",
    "\n",
    "# Determine which spectra QN accurately estimated the redshift for\n",
    "zgood = (z_val>0) & (abs(zbest-z_val) < dv_max*(1+z_val))\n",
    "\n",
    "# For each value of confidence threshold, compute purity and completeness.\n",
    "for i,cth in enumerate(c_th):\n",
    "    isqso_qn = (c_line>cth).sum(axis=0)>=ndetect\n",
    "    ntrue_positives = (isqso_qn & zgood & ~is_bad).sum()\n",
    "    pur[i] = ntrue_positives/(isqso_qn & (~is_bad)).sum()\n",
    "    com[i] = (isqso_qn & zgood & isqso_truth).sum()/isqso_truth.sum()\n",
    "    \n",
    "# Plot them!\n",
    "ax.plot(c_th, pur, label='Purity')\n",
    "ax.plot(c_th, com, label='Completeness')\n",
    "ax.set_xlim(0.0,1.0)\n",
    "ax.set_ylim(0.8,1.0)\n",
    "ax.set_xlabel(r'$c_{th}$')\n",
    "ax.grid()\n",
    "ax.legend()"
   ]
  },
  {
   "cell_type": "code",
   "execution_count": null,
   "metadata": {},
   "outputs": [],
   "source": []
  },
  {
   "cell_type": "code",
   "execution_count": null,
   "metadata": {},
   "outputs": [],
   "source": []
  },
  {
   "cell_type": "code",
   "execution_count": null,
   "metadata": {},
   "outputs": [],
   "source": []
  },
  {
   "cell_type": "code",
   "execution_count": null,
   "metadata": {},
   "outputs": [],
   "source": []
  },
  {
   "cell_type": "code",
   "execution_count": null,
   "metadata": {},
   "outputs": [],
   "source": []
  },
  {
   "cell_type": "code",
   "execution_count": null,
   "metadata": {},
   "outputs": [],
   "source": []
  },
  {
   "cell_type": "code",
   "execution_count": null,
   "metadata": {},
   "outputs": [],
   "source": []
  },
  {
   "cell_type": "code",
   "execution_count": null,
   "metadata": {},
   "outputs": [],
   "source": []
  }
 ],
 "metadata": {
  "kernelspec": {
   "display_name": "qnet_tutorial",
   "language": "python",
   "name": "qnet_tutorial"
  },
  "language_info": {
   "codemirror_mode": {
    "name": "ipython",
    "version": 3
   },
   "file_extension": ".py",
   "mimetype": "text/x-python",
   "name": "python",
   "nbconvert_exporter": "python",
   "pygments_lexer": "ipython3",
   "version": "3.8.5"
  }
 },
 "nbformat": 4,
 "nbformat_minor": 4
}
