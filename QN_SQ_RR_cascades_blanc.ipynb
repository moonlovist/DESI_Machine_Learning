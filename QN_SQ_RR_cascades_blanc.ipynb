{
 "cells": [
  {
   "cell_type": "code",
   "execution_count": 1,
   "metadata": {},
   "outputs": [],
   "source": [
    "%load_ext autoreload\n",
    "%autoreload 2\n",
    "%matplotlib inline"
   ]
  },
  {
   "cell_type": "code",
   "execution_count": 17,
   "metadata": {},
   "outputs": [],
   "source": [
    "# Common imports\n",
    "import fitsio\n",
    "import numpy as np\n",
    "import os\n",
    "import pandas as pd\n",
    "import sys\n",
    "import glob"
   ]
  },
  {
   "cell_type": "code",
   "execution_count": 3,
   "metadata": {},
   "outputs": [],
   "source": [
    "# To plot pretty figures\n",
    "import matplotlib\n",
    "import matplotlib.pyplot as plt\n",
    "import matplotlib.patches as mpatches\n",
    "plt.rc('font', size=18)"
   ]
  },
  {
   "cell_type": "code",
   "execution_count": 4,
   "metadata": {},
   "outputs": [],
   "source": [
    "# Tensorflow imports\n",
    "import tensorflow as tf\n",
    "from tensorflow.keras.optimizers import Adam\n",
    "from tensorflow.keras.models import load_model"
   ]
  },
  {
   "cell_type": "code",
   "execution_count": 5,
   "metadata": {},
   "outputs": [],
   "source": [
    "# QuasarNET imports\n",
    "from quasarnet.models import QuasarNET, custom_loss\n",
    "from quasarnet.io import read_truth, read_data, objective\n",
    "from quasarnet.utils import process_preds, absorber_IGM"
   ]
  },
  {
   "cell_type": "code",
   "execution_count": 6,
   "metadata": {},
   "outputs": [],
   "source": [
    "from astropy.io import fits\n",
    "from astropy.table import Table, join, vstack, hstack"
   ]
  },
  {
   "cell_type": "code",
   "execution_count": 7,
   "metadata": {},
   "outputs": [],
   "source": [
    "# To make this notebook's output stable across runs\n",
    "def reset_graph(seed=42):\n",
    "    tf.compat.v1.reset_default_graph\n",
    "    tf.random.set_seed(seed)\n",
    "    np.random.seed(seed)"
   ]
  },
  {
   "cell_type": "code",
   "execution_count": 8,
   "metadata": {},
   "outputs": [],
   "source": [
    "def plot_spectrum(ival,X,c_line,z_line,zbest,Y,z,c_th=0.5,ndetect=1):\n",
    "    llmin = np.log10(3600)\n",
    "    llmax = np.log10(10000)\n",
    "    dll = 1e-3\n",
    "\n",
    "    nbins = int((llmax-llmin)/dll)\n",
    "    wave = 10**(llmin + np.arange(nbins)*dll)\n",
    "    fig, ax = plt.subplots(1,1,figsize=(10,6))\n",
    "    ax.plot(wave, X[ival,:])\n",
    "    \n",
    "    isqso_truth = (Y[ival,:].argmax()==2) | (Y[ival,:].argmax()==3)\n",
    "    isqso_qn = (c_line[:,ival].sum()>c_th)>=ndetect\n",
    "    \n",
    "    title = r'Is QSO? VI: {}, QN: {}'.format(isqso_truth,isqso_qn)\n",
    "    title += '\\n'\n",
    "    title += r'$z_{{VI}}$={:1.3f}, $z_{{QN}}$='.format(z[ival])\n",
    "    if isqso_qn:\n",
    "        title += r'{:1.3f}'.format(zbest[ival])\n",
    "    else:\n",
    "        title += 'N/A'\n",
    "    \n",
    "    ax.set_title(title)\n",
    "    m = X[ival,:].min()\n",
    "    M = X[ival,:].max()\n",
    "    ax.grid()\n",
    "    ax.set_ylim(m-2,M+2)\n",
    "    for il,l in enumerate(lines):\n",
    "        lam = absorber_IGM[l]*(1+z_line[il,ival])\n",
    "        w = abs(wave-lam)<100\n",
    "        if w.sum()>0:\n",
    "            m = X[ival,w].min()-1\n",
    "            M = X[ival,w].max()+1\n",
    "            ax.plot([lam,lam], [m,M],'r--', alpha=0.1+0.9*c_line[il,ival])\n",
    "            ax.text(lam,M+0.5,'c$_{{{}}}={}$'.format(l,round(c_line[il,ival],3)),\n",
    "                     horizontalalignment='center',alpha=0.1+0.9*c_line[il,ival])\n",
    "    ax.set_xlabel(r'$\\lambda_\\mathrm{obs}~[\\AA]$')\n",
    "    ax.set_ylabel(r'renormalised flux')\n",
    "    plt.show()\n",
    "    \n",
    "    return"
   ]
  },
  {
   "cell_type": "code",
   "execution_count": null,
   "metadata": {},
   "outputs": [],
   "source": []
  },
  {
   "cell_type": "markdown",
   "metadata": {},
   "source": [
    "# Get blanc deep tile data, and run QuasarNET:"
   ]
  },
  {
   "cell_type": "markdown",
   "metadata": {},
   "source": [
    "### parse_data_desisim --spectra /global/cfs/cdirs/desi/spectro/redux/blanc/tiles/80609/deep/coadd*.fits --out blanc-80606-deep.fits.gz --mode DESI_COADD --desi-period sv\n",
    "### qn_export --model /global/cfs/projectdirs/desi/users/jfarr/QuasarNET_paper/qn_models/main_setup/coadd/prop_0.1/model_indtrain_0_0/qn_train_coadd_indtrain_0_0.h5 --data blanc-80609-deep.fits.gz --mode DESI_COADD --out-suffix output-806023-deep --data-training /global/cfs/projectdirs/desi/users/jfarr/QuasarNET_paper/data/coadd/training_datasets/prop_0.1/data_dr12_coadd_train_indtrain_0_0.fits "
   ]
  },
  {
   "cell_type": "markdown",
   "metadata": {},
   "source": [
    "# Get cascades data, and run QuasarNET:"
   ]
  },
  {
   "cell_type": "markdown",
   "metadata": {},
   "source": [
    "### parse_data_desisim --spectra /global/cfs/cdirs/desi/spectro/redux/cascades/tiles/80609/deep/coadd*.fits --out cascades-80609-deep.fits.gz --mode DESI_COADD --desi-period sv\n",
    "### qn_export --model /global/cfs/projectdirs/desi/users/jfarr/QuasarNET_paper/qn_models/main_setup/coadd/prop_0.1/model_indtrain_0_0/qn_train_coadd_indtrain_0_0.h5 --data cascades-80609-deep.fits.gz --mode DESI_COADD --out-suffix output-80609-cascades --data-training/global/cfs/projectdirs/desi/users/jfarr/QuasarNET_paper/data/coadd/training_datasets/prop_0.1/data_dr12_coadd_train_indtrain_0_0.fits \n"
   ]
  },
  {
   "cell_type": "code",
   "execution_count": null,
   "metadata": {},
   "outputs": [],
   "source": []
  },
  {
   "cell_type": "markdown",
   "metadata": {},
   "source": [
    "# Loading results"
   ]
  },
  {
   "cell_type": "code",
   "execution_count": 9,
   "metadata": {},
   "outputs": [],
   "source": [
    "def load_qn_ting_tile(tile,release):\n",
    "    \"\"\"Return QuasarNET results for a particular tile\"\"\"\n",
    "    basedir='/global/homes/t/tanting/Machine_Learning_quasar/QuasarNET/test_qn_blanc_ting/'\n",
    "    if release == 'blanc':\n",
    "        fname=basedir+'qnAll-output-{}-deep.fits'.format(tile,release)\n",
    "        fname_spectra=basedir+'{}-{}-deep.fits.gz'.format(release,tile)\n",
    "    elif release == 'cascades':\n",
    "        fname=basedir+'qnAll-output-{}-{}.fits'.format(tile,release)\n",
    "        fname_spectra=basedir+'{}-{}-deep.fits.gz'.format(release,tile)\n",
    "    hdul = fits.open(fname)\n",
    "    data = Table(hdul[1].data)\n",
    "    # remove columns that are not needed\n",
    "    data.remove_columns(['IN_TRAIN','FIBER','BRICKNAME','BRICK_OBJID','Z_LINES_BAL','C_LINES_BAL'])\n",
    "    data.rename_column('ZBEST', 'QN_Z')\n",
    "    data.rename_column('IS_QSO', 'QN_IS_QSO')   \n",
    "    # add spectra\n",
    "    #fname=basedir+'blanc-{}.fits.gz'.format(tile)\n",
    "    \n",
    "    hdul_spectra = fits.open(fname_spectra)\n",
    "    target_spectra = Table(hdul_spectra[1].data)\n",
    "    target_spectra.remove_columns(['SPID0','SPID1','SPID2'])\n",
    "    spectra = hdul_spectra[0].data[:,:443]\n",
    "    spectra[:,434:443]=0\n",
    "    target_spectra.add_column(spectra, name='spectra')\n",
    "    data = join(data,target_spectra,keys='TARGETID')\n",
    "    return data\n"
   ]
  },
  {
   "cell_type": "code",
   "execution_count": 10,
   "metadata": {},
   "outputs": [],
   "source": [
    "qn_80605_blanc=load_qn_ting_tile('80605','blanc')\n",
    "qn_80607_blanc=load_qn_ting_tile('80607','blanc')\n",
    "qn_80609_blanc=load_qn_ting_tile('80609','blanc')"
   ]
  },
  {
   "cell_type": "code",
   "execution_count": 11,
   "metadata": {},
   "outputs": [],
   "source": [
    "qn_80605_cascades=load_qn_ting_tile('80605','cascades')\n",
    "qn_80607_cascades=load_qn_ting_tile('80607','cascades')\n",
    "qn_80609_cascades=load_qn_ting_tile('80609','cascades')"
   ]
  },
  {
   "cell_type": "code",
   "execution_count": 12,
   "metadata": {},
   "outputs": [],
   "source": [
    "def load_wvi_tile(fname='80605_QSOzinfo_wVI.fits'):\n",
    "    \"\"\"Return VI truth table for a particular tile\"\"\"\n",
    "    basedir='/global/cfs/cdirs/desi/survey/catalogs/SV1/redshift_comps/blanc/v2/QSO/'\n",
    "    data=Table.read(basedir+fname)\n",
    "    # remove columns that are not needed\n",
    "    data=data['TARGETID','Z','best_z','best_quality','SPECTYPE','best_spectype']\n",
    "    data.rename_column('Z', 'RR_Z')\n",
    "    data.rename_column('SPECTYPE', 'RR_CLASS')\n",
    "    data.rename_column('best_z', 'VI_Z')\n",
    "    data.rename_column('best_spectype', 'VI_CLASS')\n",
    "    data.rename_column('best_quality', 'VI_QUALITY')\n",
    "    return data"
   ]
  },
  {
   "cell_type": "code",
   "execution_count": 13,
   "metadata": {},
   "outputs": [],
   "source": [
    "def load_vi(fname,release,vi_type):\n",
    "    \"\"\"Return VI truth table for a particular tile\"\"\"\n",
    "    if release == 'blanc':\n",
    "        basedir='/global/cfs/cdirs/desi/sv/vi/TruthTables/Blanc/QSO/'\n",
    "    elif release == 'cascades':\n",
    "        basedir='/global/cscratch1/sd/ajross/SV1/redshift_comps/cascades/testcas/QSO/'\n",
    "    if vi_type == 'vi':\n",
    "        data=Table.read(basedir+fname)\n",
    "        # remove columns that are not needed\n",
    "        data.remove_columns(['all_VI_issues','all_VI_comments','merger_comment','N_VI'])\n",
    "        data.rename_column('Redrock_z', 'RR_Z')\n",
    "        data.rename_column('Redrock_spectype', 'RR_CLASS')\n",
    "        data.rename_column('best_z', 'VI_Z')\n",
    "        data.rename_column('best_spectype', 'VI_CLASS')\n",
    "        data.rename_column('best_quality', 'VI_QUALITY')\n",
    "    elif vi_type == 'wvi':\n",
    "        basedir='/global/cfs/cdirs/desi/survey/catalogs/SV1/redshift_comps/blanc/v2/QSO/'\n",
    "        data=Table.read(basedir+fname)\n",
    "        # remove columns that are not needed\n",
    "        data=data['TARGETID','Z','best_z','best_quality','SPECTYPE','best_spectype']\n",
    "        data.rename_column('Z', 'RR_Z')\n",
    "        data.rename_column('SPECTYPE', 'RR_CLASS')\n",
    "        data.rename_column('best_z', 'VI_Z')\n",
    "        data.rename_column('best_spectype', 'VI_CLASS')\n",
    "        data.rename_column('best_quality', 'VI_QUALITY')\n",
    "    return data"
   ]
  },
  {
   "cell_type": "code",
   "execution_count": 14,
   "metadata": {},
   "outputs": [],
   "source": [
    "vi_80605_blanc=load_vi('desi-vi_QSO_tile80605_nightdeep_merged_all_210223.csv','blanc','vi')\n",
    "vi_80607_blanc=load_vi('desi-vi_QSO_tile80607_nightdeep_merged_all_210214.csv','blanc','vi')\n",
    "vi_80609_blanc=load_vi('desi-vi_QSO_tile80609_nightdeep_merged_all_210210.csv','blanc','vi')"
   ]
  },
  {
   "cell_type": "code",
   "execution_count": 15,
   "metadata": {},
   "outputs": [],
   "source": [
    "vi_80605_cascades=load_vi('80605_QSOzinfo_wVI.fits','cascades','wvi')\n",
    "vi_80607_cascades=load_vi('80607_QSOzinfo_wVI.fits','cascades','wvi')\n",
    "vi_80609_cascades=load_vi('80609_QSOzinfo_wVI.fits','cascades','wvi')"
   ]
  },
  {
   "cell_type": "markdown",
   "metadata": {},
   "source": [
    "# Get SQ results"
   ]
  },
  {
   "cell_type": "code",
   "execution_count": 35,
   "metadata": {},
   "outputs": [],
   "source": [
    "def merge_data(files,columns=None):\n",
    "    merged_data=[]\n",
    "    for file in files:\n",
    "        merged_data.append(Table(fitsio.read(file,columns=columns)))\n",
    "    return vstack(merged_data)"
   ]
  },
  {
   "cell_type": "code",
   "execution_count": 70,
   "metadata": {},
   "outputs": [],
   "source": [
    "def load_SQ(fname,release,release_type,tile):\n",
    "    sqfiles_path=fname+'/'+release\n",
    "    squeze_model = 'boss'\n",
    "    sqfiles=sorted(glob.glob(os.path.join(sqfiles_path,release_type,tile,f'{squeze_model}*.fits')))\n",
    "    sq_table=merge_data(sqfiles,columns=['TARGETID','PROB','Z_TRY','CLASS_PREDICTED'])\n",
    "    sq_table.rename_column('Z_TRY','SQ_Z')\n",
    "    sq_table.rename_column('CLASS_PREDICTED','SQ_CLASS')\n",
    "    return sq_table\n",
    "    "
   ]
  },
  {
   "cell_type": "code",
   "execution_count": 72,
   "metadata": {},
   "outputs": [],
   "source": [
    "sq_80605_blanc = load_SQ('/global/cfs/cdirs/desi/users/hiramk/desi/squeze_tests','blanc','tiles','80605')\n",
    "sq_80607_blanc = load_SQ('/global/cfs/cdirs/desi/users/hiramk/desi/squeze_tests','blanc','tiles','80607')\n",
    "sq_80609_blanc = load_SQ('/global/cfs/cdirs/desi/users/hiramk/desi/squeze_tests','blanc','tiles','80609')\n",
    "sq_80605_cascades = load_SQ('/global/cfs/cdirs/desi/users/hiramk/desi/squeze_tests','cascades','deep','80605')\n",
    "sq_80607_cascades = load_SQ('/global/cfs/cdirs/desi/users/hiramk/desi/squeze_tests','cascades','deep','80607')\n",
    "sq_80609_cascades = load_SQ('/global/cfs/cdirs/desi/users/hiramk/desi/squeze_tests','cascades','deep','80609')"
   ]
  },
  {
   "cell_type": "markdown",
   "metadata": {},
   "source": [
    "# Merge VI tables with QN results"
   ]
  },
  {
   "cell_type": "code",
   "execution_count": 73,
   "metadata": {},
   "outputs": [],
   "source": [
    "vi_qn_sq_80605_blanc=join(join(vi_80605_blanc,qn_80605_blanc,keys='TARGETID'),sq_80605_blanc,keys='TARGETID')\n",
    "vi_qn_sq_80607_blanc=join(join(vi_80607_blanc,qn_80607_blanc,keys='TARGETID'),sq_80607_blanc,keys='TARGETID')\n",
    "vi_qn_sq_80609_blanc=join(join(vi_80609_blanc,qn_80609_blanc,keys='TARGETID'),sq_80609_blanc,keys='TARGETID')\n",
    "# combine tiles\n",
    "vi_qn_sq_all_blanc=vstack([vi_qn_sq_80605_blanc,vstack([vi_qn_sq_80607_blanc,vi_qn_sq_80609_blanc])])"
   ]
  },
  {
   "cell_type": "code",
   "execution_count": 74,
   "metadata": {},
   "outputs": [],
   "source": [
    "vi_qn_sq_80605_cascades=join(join(vi_80605_blanc,qn_80605_cascades,keys='TARGETID'),sq_80605_cascades,keys='TARGETID')\n",
    "vi_qn_sq_80607_cascades=join(join(vi_80607_blanc,qn_80607_cascades,keys='TARGETID'),sq_80607_cascades,keys='TARGETID')\n",
    "vi_qn_sq_80609_cascades=join(join(vi_80609_blanc,qn_80609_cascades,keys='TARGETID'),sq_80609_cascades,keys='TARGETID')\n",
    "# combine tiles\n",
    "vi_qn_sq_all_cascades=vstack([vi_qn_sq_80605_cascades,vstack([vi_qn_sq_80607_cascades,vi_qn_sq_80609_cascades])])"
   ]
  },
  {
   "cell_type": "code",
   "execution_count": 91,
   "metadata": {},
   "outputs": [],
   "source": [
    "def print_summary(data,min_qual=2.5,min_z=0.0,min_prob=0.0):\n",
    "    n_tot=len(data)\n",
    "    # only objects with good VI quality\n",
    "    w_qual=data['VI_QUALITY']>=min_qual\n",
    "    n_qual=len(data[w_qual])\n",
    "    print('{:.3f} = ({} / {}) fraction of objects with VI quality >= {}'.format(n_qual/n_tot,n_qual,n_tot,min_qual))\n",
    "    # objects identified as QSO by VI / Redrock / QuasarNET\n",
    "    w_VI=(data['VI_CLASS']=='QSO') & (data['VI_Z'] > min_z)\n",
    "    w_RR=data['RR_CLASS']=='QSO'\n",
    "    #w_SQ=((data['SQ_CLASS']==3)|(data['SQ_CLASS']==30)|(data['SQ_CLASS']==35)|(data['SQ_CLASS']==305))&(data['PROB']>min_prob)\n",
    "    w_SQ=((data['SQ_CLASS']==3)|(data['SQ_CLASS']==30))&(data['PROB']>min_prob)\n",
    "    w_QN=data['QN_IS_QSO']==True\n",
    "    # matches for good spectra\n",
    "    n_VI=len(data[w_qual & w_VI])\n",
    "    print('{:.3f} = ({} / {}) fraction of good VI spectra are quasars'.format(n_VI/n_qual,n_VI,n_qual))    \n",
    "    n_RR=len(data[w_qual & w_VI & w_RR])\n",
    "    print('{:.3f} = ({} / {}) fraction of good VI quasars identified by Redrock'.format(n_RR/n_VI,n_RR,n_VI))    \n",
    "    n_QN=len(data[w_qual & w_VI & w_QN])\n",
    "    print('{:.3f} = ({} / {}) fraction of good VI quasars identified by QuasarNET'.format(n_QN/n_VI,n_QN,n_VI))\n",
    "    n_SQ=len(data[w_qual & w_VI & w_SQ])\n",
    "    print('{:.3f} = ({} / {}) fraction of good VI quasars identified by Squeeze'.format(n_SQ/n_VI,n_SQ,n_VI))\n",
    "    n_intersection=len(data[w_qual & w_VI & w_RR & w_QN & w_SQ])\n",
    "    print('{:.3f} = ({} / {}) fraction of good VI quasars identified by both Redrock, Squeeze and QuasarNET'.format(n_intersection/n_VI,n_intersection,n_VI))\n",
    "    n_union=len(data[(w_qual & w_VI & w_RR)|(w_qual & w_VI & w_QN)|(w_qual & w_VI & w_SQ)])\n",
    "    print('{:.3f} = ({} / {}) fraction of good VI quasars identified by either Redrock, Squeeze or QuasarNET'.format(n_union/n_VI,n_union,n_VI))\n",
    "    \n",
    "    w_high_z = (data['VI_Z'] > min_z)\n",
    "    n_RR_total = len(data[w_qual & w_RR & w_high_z])\n",
    "    n_RR_false=len(data[w_qual & ~w_VI & w_RR & w_high_z])\n",
    "    print('{:.3f} = ({} / {}) fraction of VI targets false identified by Redrock as quasars'.format(n_RR_false/n_RR_total,n_RR_false,n_RR_total)) \n",
    "    \n",
    "    n_QN_total = len(data[w_qual & w_QN & w_high_z])\n",
    "    n_QN_false=len(data[w_qual & ~w_VI & w_QN & w_high_z])\n",
    "    print('{:.3f} = ({} / {}) fraction of VI targets false identified by QuasarNET as quasars'.format(n_QN_false/n_QN_total,n_QN_false,n_QN_total)) \n",
    "    \n",
    "    #n_SQ_total = len(data[w_qual & w_SQ & w_high_z])\n",
    "    #n_SQ_false=len(data[w_qual & ~w_VI & w_SQ & w_high_z])\n",
    "    #print('{:.3f} = ({} / {}) fraction of VI targets false identified by Squeeze as quasars'.format(n_SQ_false/n_SQ_total,n_SQ_false,n_SQ_total)) "
   ]
  },
  {
   "cell_type": "code",
   "execution_count": 92,
   "metadata": {},
   "outputs": [
    {
     "name": "stdout",
     "output_type": "stream",
     "text": [
      "blanc all tiles\n",
      "0.873 = (2962 / 3392) fraction of objects with VI quality >= 2.5\n",
      "0.421 = (1248 / 2962) fraction of good VI spectra are quasars\n",
      "0.854 = (1066 / 1248) fraction of good VI quasars identified by Redrock\n",
      "0.948 = (1183 / 1248) fraction of good VI quasars identified by QuasarNET\n",
      "0.898 = (1121 / 1248) fraction of good VI quasars identified by Squeeze\n",
      "0.800 = (999 / 1248) fraction of good VI quasars identified by both Redrock, Squeeze and QuasarNET\n",
      "0.974 = (1216 / 1248) fraction of good VI quasars identified by either Redrock, Squeeze or QuasarNET\n",
      "0.003 = (3 / 1069) fraction of VI targets false identified by Redrock as quasars\n",
      "0.038 = (47 / 1230) fraction of VI targets false identified by QuasarNET as quasars\n",
      "cascades all tiles\n",
      "0.900 = (62355 / 69259) fraction of objects with VI quality >= 2.5\n",
      "0.507 = (31635 / 62355) fraction of good VI spectra are quasars\n",
      "0.866 = (27403 / 31635) fraction of good VI quasars identified by Redrock\n",
      "0.972 = (30749 / 31635) fraction of good VI quasars identified by QuasarNET\n",
      "0.146 = (4616 / 31635) fraction of good VI quasars identified by Squeeze\n",
      "0.131 = (4150 / 31635) fraction of good VI quasars identified by both Redrock, Squeeze and QuasarNET\n",
      "0.982 = (31070 / 31635) fraction of good VI quasars identified by either Redrock, Squeeze or QuasarNET\n",
      "0.001 = (37 / 27440) fraction of VI targets false identified by Redrock as quasars\n",
      "0.028 = (891 / 31640) fraction of VI targets false identified by QuasarNET as quasars\n"
     ]
    }
   ],
   "source": [
    "\n",
    "#print('tile 80605')\n",
    "#print_summary(data=vi_qn_80605,min_qual=2.5)\n",
    "#print('tile 80607')\n",
    "#print_summary(data=vi_qn_80607,min_qual=2.5)\n",
    "#print('tile 80609')\n",
    "#print_summary(data=vi_qn_80609,min_qual=2.5)\n",
    "print('blanc all tiles')\n",
    "print_summary(data=vi_qn_sq_all_blanc,min_qual=2.5)\n",
    "print('cascades all tiles')\n",
    "print_summary(data=vi_qn_sq_all_cascades,min_qual=2.5)"
   ]
  },
  {
   "cell_type": "markdown",
   "metadata": {},
   "source": [
    "# Results for quasars at z>2.1"
   ]
  },
  {
   "cell_type": "code",
   "execution_count": 81,
   "metadata": {},
   "outputs": [
    {
     "name": "stdout",
     "output_type": "stream",
     "text": [
      "blanc all tiles\n",
      "0.873 = (2962 / 3392) fraction of objects with VI quality >= 2.5\n",
      "0.123 = (364 / 2962) fraction of good VI spectra are quasars\n",
      "0.915 = (333 / 364) fraction of good VI quasars identified by Redrock\n",
      "0.981 = (357 / 364) fraction of good VI quasars identified by QuasarNET\n",
      "0.992 = (361 / 364) fraction of good VI quasars identified by Squeeze\n",
      "0.898 = (327 / 364) fraction of good VI quasars identified by both Redrock, Squeeze and QuasarNET\n",
      "1.000 = (364 / 364) fraction of good VI quasars identified by either Redrock, Squeeze or QuasarNET\n",
      "0.003 = (1 / 334) fraction of VI targets false identified by Redrock as quasars\n",
      "0.011 = (4 / 361) fraction of VI targets false identified by QuasarNET as quasars\n",
      "cascades all tiles\n",
      "0.900 = (62355 / 69259) fraction of objects with VI quality >= 2.5\n",
      "0.167 = (10420 / 62355) fraction of good VI spectra are quasars\n",
      "0.915 = (9530 / 10420) fraction of good VI quasars identified by Redrock\n",
      "0.990 = (10315 / 10420) fraction of good VI quasars identified by QuasarNET\n",
      "0.816 = (8500 / 10420) fraction of good VI quasars identified by Squeeze\n",
      "0.743 = (7743 / 10420) fraction of good VI quasars identified by both Redrock, Squeeze and QuasarNET\n",
      "1.000 = (10416 / 10420) fraction of good VI quasars identified by either Redrock, Squeeze or QuasarNET\n",
      "0.001 = (6 / 9536) fraction of VI targets false identified by Redrock as quasars\n",
      "0.002 = (17 / 10332) fraction of VI targets false identified by QuasarNET as quasars\n"
     ]
    }
   ],
   "source": [
    "#print('tile 80605')\n",
    "#print_summary(data=vi_qn_80605,min_qual=2.5,min_z=2.1)\n",
    "#print('tile 80607')\n",
    "#print_summary(data=vi_qn_80607,min_qual=2.5,min_z=2.1)\n",
    "#print('tile 80609')\n",
    "#print_summary(data=vi_qn_80609,min_qual=2.5,min_z=2.1)\n",
    "print('blanc all tiles')\n",
    "print_summary(data=vi_qn_sq_all_blanc,min_qual=2.5,min_z=2.1)\n",
    "print('cascades all tiles')\n",
    "print_summary(data=vi_qn_sq_all_cascades,min_qual=2.5,min_z=2.1)"
   ]
  },
  {
   "cell_type": "markdown",
   "metadata": {},
   "source": [
    "# Contaminants in reobservations\n",
    "## Here only consider about classification, not about z precision"
   ]
  },
  {
   "cell_type": "code",
   "execution_count": 88,
   "metadata": {},
   "outputs": [],
   "source": [
    "def reobs_info(data,min_qual=2.5,min_prob=0):\n",
    "    n_tot=len(data)\n",
    "    # only objects with good VI quality\n",
    "    w_qual=data['VI_QUALITY']>=min_qual\n",
    "    n_qual=len(data[w_qual])\n",
    "    print('{:.3f} = ({} / {}) objects with VI quality >= {}'.format(n_qual/n_tot,n_qual,n_tot,min_qual))\n",
    "    # true high-z quasars found during VI\n",
    "    w_VI=(data['VI_CLASS']=='QSO') & (data['VI_Z'] >= 2.1)\n",
    "    n_VI=len(data[w_VI & w_qual])\n",
    "    print('{:.3f} = ({} / {}) VIed QSOs with z >= 2.1'.format(n_VI/n_qual,n_VI,n_qual))\n",
    "    \n",
    "    # objects selected by Redrock for reobservation \n",
    "    w_RR=(data['RR_CLASS']=='QSO') & (data['RR_Z'] >= 2.1)\n",
    "    n_RR=len(data[w_RR & w_qual])\n",
    "    print('{} objects selected by RR for re-observation'.format(n_RR))\n",
    "    n_RR_good=len(data[w_RR & w_qual & w_VI])\n",
    "    print('{:.3f} = ({} / {}) completeness in RR selection for re-observation'.format(n_RR_good/n_VI,n_RR_good,n_VI))\n",
    "    print('{:.3f} = ({} / {}) purity in RR selection for re-observation'.format(n_RR_good/n_RR,n_RR_good,n_RR))\n",
    "    \n",
    "    # objects selected by QuasarNET for reobservation \n",
    "    w_QN=(data['QN_IS_QSO']==True) & (data['QN_Z'] >= 2.1)\n",
    "    n_QN=len(data[w_QN & w_qual])\n",
    "    print('{} objects selected by QN for re-observation'.format(n_QN))\n",
    "    n_QN_good=len(data[w_QN & w_qual & w_VI])\n",
    "    print('{:.3f} = ({} / {}) completeness in QN selection for re-observation'.format(n_QN_good/n_VI,n_QN_good,n_VI))\n",
    "    print('{:.3f} = ({} / {}) purity in QN selection for re-observation'.format(n_QN_good/n_QN,n_QN_good,n_QN))\n",
    "    \n",
    "    # objects selected by Squeeze for reobservation \n",
    "    #w_SQ=((data['SQ_CLASS']==3)|(data['SQ_CLASS']==30)|(data['SQ_CLASS']==35)|(data['SQ_CLASS']==305))&(data['PROB']>min_prob) & (data['SQ_Z'] >= 2.1)\n",
    "    w_SQ=((data['SQ_CLASS']==3)|(data['SQ_CLASS']==30))&(data['PROB']>min_prob) & (data['SQ_Z'] >= 2.1)\n",
    "    n_SQ=len(data[w_SQ & w_qual])\n",
    "    print('{} objects selected by Squeeze for re-observation'.format(n_SQ))\n",
    "    n_SQ_good=len(data[w_SQ & w_qual & w_VI])\n",
    "    print('{:.3f} = ({} / {}) completeness in SQ selection for re-observation'.format(n_SQ_good/n_VI,n_SQ_good,n_VI))\n",
    "    print('{:.3f} = ({} / {}) purity in SQ selection for re-observation'.format(n_SQ_good/n_SQ,n_SQ_good,n_SQ))\n",
    "    \n",
    "    w_QN_RR_SQ = w_RR|w_QN|w_SQ\n",
    "    n_QN_RR_SQ = len(data[w_QN_RR_SQ & w_qual])\n",
    "    n_QN_RR_SQ_good=len(data[w_QN_RR_SQ & w_qual & w_VI])\n",
    "    print('{} objects selected by QN+RR for re-observation'.format(n_QN_RR_SQ))\n",
    "    print('{:.3f} = ({} / {}) completeness in QN+RR+SQ selection for re-observation'.format(n_QN_RR_SQ_good/n_VI,n_QN_RR_SQ_good,n_VI))\n",
    "    print('{:.3f} = ({} / {}) purity in QN+RR+SQ selection for re-observation'.format(n_QN_RR_SQ_good/n_QN,n_QN_RR_SQ_good,n_QN_RR_SQ))\n",
    "    "
   ]
  },
  {
   "cell_type": "code",
   "execution_count": 89,
   "metadata": {},
   "outputs": [
    {
     "name": "stdout",
     "output_type": "stream",
     "text": [
      "all tiles blanc\n",
      "0.873 = (2962 / 3392) objects with VI quality >= 2.5\n",
      "0.123 = (364 / 2962) VIed QSOs with z >= 2.1\n",
      "326 objects selected by RR for re-observation\n",
      "0.885 = (322 / 364) completeness in RR selection for re-observation\n",
      "0.988 = (322 / 326) purity in RR selection for re-observation\n",
      "374 objects selected by QN for re-observation\n",
      "0.973 = (354 / 364) completeness in QN selection for re-observation\n",
      "0.947 = (354 / 374) purity in QN selection for re-observation\n",
      "357 objects selected by Squeeze for re-observation\n",
      "0.931 = (339 / 364) completeness in SQ selection for re-observation\n",
      "0.950 = (339 / 357) purity in SQ selection for re-observation\n",
      "401 objects selected by QN+RR for re-observation\n",
      "0.995 = (362 / 364) completeness in QN+RR+SQ selection for re-observation\n",
      "0.968 = (362 / 401) purity in QN+RR+SQ selection for re-observation\n",
      "all tiles cascades\n",
      "0.900 = (62355 / 69259) objects with VI quality >= 2.5\n",
      "0.167 = (10420 / 62355) VIed QSOs with z >= 2.1\n",
      "9377 objects selected by RR for re-observation\n",
      "0.890 = (9271 / 10420) completeness in RR selection for re-observation\n",
      "0.989 = (9271 / 9377) purity in RR selection for re-observation\n",
      "10677 objects selected by QN for re-observation\n",
      "0.983 = (10238 / 10420) completeness in QN selection for re-observation\n",
      "0.959 = (10238 / 10677) purity in QN selection for re-observation\n",
      "1476 objects selected by Squeeze for re-observation\n",
      "0.137 = (1425 / 10420) completeness in SQ selection for re-observation\n",
      "0.965 = (1425 / 1476) purity in SQ selection for re-observation\n",
      "10939 objects selected by QN+RR for re-observation\n",
      "0.997 = (10386 / 10420) completeness in QN+RR+SQ selection for re-observation\n",
      "0.973 = (10386 / 10939) purity in QN+RR+SQ selection for re-observation\n"
     ]
    }
   ],
   "source": [
    "#print('tile 80605')\n",
    "#reobs_info(data=vi_qn_80605,min_qual=2.5)\n",
    "#print('tile 80607')\n",
    "#reobs_info(data=vi_qn_80607,min_qual=2.5)\n",
    "#print('tile 80609')\n",
    "#reobs_info(data=vi_qn_80609,min_qual=2.5)\n",
    "print('all tiles blanc')\n",
    "reobs_info(data=vi_qn_sq_all_blanc,min_qual=2.5)\n",
    "print('all tiles cascades')\n",
    "reobs_info(data=vi_qn_sq_all_cascades,min_qual=2.5)"
   ]
  },
  {
   "cell_type": "code",
   "execution_count": null,
   "metadata": {},
   "outputs": [],
   "source": []
  },
  {
   "cell_type": "markdown",
   "metadata": {},
   "source": [
    "# Where is QuasarNET failing?"
   ]
  },
  {
   "cell_type": "code",
   "execution_count": null,
   "metadata": {},
   "outputs": [],
   "source": [
    "def get_QN_misses(data,min_qual=2.5,min_z=2.1,error_z=0.05):\n",
    "    \"\"\"Return high-z quasars missed by QN\"\"\"\n",
    "    # objects with good VI quality\n",
    "    w_qual=data['VI_QUALITY']>=min_qual\n",
    "    n_qual=len(data[w_qual])\n",
    "    # high-z quasars found during VI\n",
    "    w_VI_highz=(data['VI_CLASS']=='QSO') & (data['VI_Z'] >= min_z)\n",
    "    n_VI_highz=len(data[w_VI_highz & w_qual])\n",
    "    print('{} VIed QSOs with z >= 2.1'.format(n_VI_highz))\n",
    "    # objects missed by QuasarNET (allow for some redshift error)\n",
    "    #w_QN_nohighz=(data['QN_IS_QSO']==False) | (data['QN_Z'] <= min_z - error_z) | (data['QN_IS_QSO']==True and data['VI_CLASS']!='QSO') \n",
    "    w_QN_nohighz=(data['QN_IS_QSO']==False) | (min_z - error_z >= data['QN_Z'])\n",
    "    QN_misses=data[w_qual & w_VI_highz & w_QN_nohighz]\n",
    "    print('{} high-z quasars missed by QN'.format(len(QN_misses)))\n",
    "    return QN_misses"
   ]
  },
  {
   "cell_type": "code",
   "execution_count": null,
   "metadata": {},
   "outputs": [],
   "source": [
    "#print('tile = 80605')\n",
    "#QN_misses_80605=get_QN_misses(data=vi_qn_80605,min_qual=2.5,min_z=2.1)\n",
    "#print('tile = 80607')\n",
    "#QN_misses_80607=get_QN_misses(data=vi_qn_80607,min_qual=2.5,min_z=2.1)\n",
    "#print('tile = 80609')\n",
    "#QN_misses_80609=get_QN_misses(data=vi_qn_80609,min_qual=2.5,min_z=2.1)\n",
    "QN_misses=get_QN_misses(data=vi_qn_all,min_qual=2.5,min_z=2.1)"
   ]
  },
  {
   "cell_type": "code",
   "execution_count": null,
   "metadata": {},
   "outputs": [],
   "source": [
    "QN_misses"
   ]
  },
  {
   "cell_type": "code",
   "execution_count": null,
   "metadata": {},
   "outputs": [],
   "source": [
    "QN_misses[1]['C_LINES']"
   ]
  },
  {
   "cell_type": "code",
   "execution_count": null,
   "metadata": {},
   "outputs": [],
   "source": [
    "QN_misses[1]['C_LINES']#.data"
   ]
  },
  {
   "cell_type": "code",
   "execution_count": null,
   "metadata": {},
   "outputs": [],
   "source": [
    "QN_misses[1]['Z_LINES']#.data"
   ]
  },
  {
   "cell_type": "code",
   "execution_count": null,
   "metadata": {},
   "outputs": [],
   "source": [
    "def get_QN_mistakes(data,min_qual=2.5,min_z=2.1):\n",
    "    \"\"\"Return high-z quasars from QN not confirmed by VI\"\"\"\n",
    "    # objects with good VI quality\n",
    "    w_qual=data['VI_QUALITY']>=min_qual\n",
    "    n_qual=len(data[w_qual])\n",
    "    # not high-z quasars found during VI\n",
    "    w_VI_nohighz=(data['VI_CLASS']!='QSO') | (data['VI_Z'] <= min_z)\n",
    "    # objects missed by QuasarNET (allow for some redshift error)\n",
    "    w_QN_highz=(data['QN_IS_QSO']==True) & (data['QN_Z'] >= min_z)\n",
    "    QN_mistakes=data[w_qual & w_VI_nohighz & w_QN_highz]\n",
    "    print('{} non high-z quasars mistaken by QN'.format(len(QN_mistakes)))\n",
    "    return QN_mistakes"
   ]
  },
  {
   "cell_type": "code",
   "execution_count": null,
   "metadata": {},
   "outputs": [],
   "source": [
    "#print('tile = 80605')\n",
    "#QN_mistakes_80605=get_QN_mistakes(data=vi_qn_80605,min_qual=2.5,min_z=2.1)\n",
    "#print('tile = 80607')\n",
    "#QN_mistakes_80607=get_QN_mistakes(data=vi_qn_80607,min_qual=2.5,min_z=2.1)\n",
    "#print('tile = 80609')\n",
    "#QN_mistakes_80609=get_QN_mistakes(data=vi_qn_80609,min_qual=2.5,min_z=2.1)\n",
    "QN_mistakes=get_QN_mistakes(data=vi_qn_all,min_qual=2.5,min_z=2.1)"
   ]
  },
  {
   "cell_type": "code",
   "execution_count": null,
   "metadata": {},
   "outputs": [],
   "source": [
    "QN_mistakes"
   ]
  },
  {
   "cell_type": "code",
   "execution_count": null,
   "metadata": {},
   "outputs": [],
   "source": [
    "QN_mistakes[1]['C_LINES']#.data"
   ]
  },
  {
   "cell_type": "code",
   "execution_count": null,
   "metadata": {},
   "outputs": [],
   "source": [
    "QN_mistakes[1]['Z_LINES']#.data"
   ]
  },
  {
   "cell_type": "code",
   "execution_count": null,
   "metadata": {},
   "outputs": [],
   "source": []
  },
  {
   "cell_type": "code",
   "execution_count": null,
   "metadata": {},
   "outputs": [],
   "source": [
    "def get_QN_false_z(data,min_qual=2.5,min_z=2.1,error_z=0.05):\n",
    "    \"\"\"Return high-z quasars classified by QN with wrong redshift\"\"\"\n",
    "    # objects with good VI quality\n",
    "    w_qual=data['VI_QUALITY']>=min_qual\n",
    "    n_qual=len(data[w_qual])\n",
    "    # high-z quasars found during VI\n",
    "    w_VI_highz=(data['VI_CLASS']=='QSO') & (data['VI_Z'] >= min_z)\n",
    "    n_VI_highz=len(data[w_VI_highz & w_qual])\n",
    "    print('{} VIed QSOs with z >= 2.1'.format(n_VI_highz))\n",
    "    # objects missed by QuasarNET (allow for some redshift error)\n",
    "    w_QN_false_z=(data['QN_IS_QSO']==False) | (data['QN_Z'] >= data['VI_Z'] + error_z) | (data['VI_Z'] - error_z >= data['QN_Z'])\n",
    "    QN_false_z=data[w_qual & w_VI_highz & w_QN_false_z]\n",
    "    print('{} high-z quasars missed by QN'.format(len(QN_false_z)))\n",
    "    return QN_false_z"
   ]
  },
  {
   "cell_type": "code",
   "execution_count": null,
   "metadata": {},
   "outputs": [],
   "source": [
    "QN_false_z=get_QN_false_z(data=vi_qn_all,min_qual=2.5,min_z=2.1)"
   ]
  },
  {
   "cell_type": "code",
   "execution_count": null,
   "metadata": {},
   "outputs": [],
   "source": [
    "QN_false_z"
   ]
  },
  {
   "cell_type": "markdown",
   "metadata": {},
   "source": [
    "# Look at the spectra"
   ]
  },
  {
   "cell_type": "code",
   "execution_count": null,
   "metadata": {},
   "outputs": [],
   "source": [
    "def plot_spectrum(tables):\n",
    "    for table in tables:\n",
    "        lines = ['LYA','CIV(1548)','CIII(1909)', 'MgII(2796)','Hbeta','Halpha']\n",
    "        llmin = np.log10(3600)\n",
    "        llmax = np.log10(10000)\n",
    "        dll = 1e-3\n",
    "        nbins = int((llmax-llmin)/dll)\n",
    "        wave = 10**(llmin + np.arange(nbins)*dll)\n",
    "        fig, ax = plt.subplots(1,1,figsize=(10,6))\n",
    "        ax.plot(wave, table['spectra'])\n",
    "        QN_CLASS = ''\n",
    "        if table['QN_IS_QSO'] == np.int64(1):\n",
    "            QN_CLASS = 'QSO'\n",
    "        else:\n",
    "            QN_CLASS = 'NO'\n",
    "        title = r'TargetID:{}'.format(table['TARGETID'])\n",
    "        title += '\\n'\n",
    "        title += r'VI:Z:{:1.3f},Class:{}'.format(table['VI_Z'],table['VI_CLASS'])\n",
    "        title += '\\n'\n",
    "        title += r'RR:Z:{:1.3f},Class:{}'.format(table['RR_Z'],table['RR_CLASS'])\n",
    "        title += '\\n'\n",
    "        title += r'QN:Z:{:1.3f},Class:{}'.format(table['QN_Z'],QN_CLASS)\n",
    "        ax.set_title(title)\n",
    "        m = table['spectra'].min()\n",
    "        M = table['spectra'].max()\n",
    "        ax.grid()\n",
    "        ax.set_ylim(m-2,M+2)\n",
    "        for il,l in enumerate(lines):\n",
    "            lam_VI = absorber_IGM[l]*(1+table['VI_Z'])\n",
    "            lam_QN = absorber_IGM[l]*(1+table['Z_LINES'][il])\n",
    "            w = abs(wave-lam_QN)<100\n",
    "            if w.sum()>0:\n",
    "                m = table['spectra'].min()-1\n",
    "                M = table['spectra'].max()+1\n",
    "                ax.plot([lam_VI,lam_VI], [m,M],'r--',color='black')\n",
    "                ax.plot([lam_QN,lam_QN], [m,M],'r--', alpha=0.1+0.9*table['C_LINES'][il])\n",
    "                ax.text(lam_QN,M+0.5,'c$_{{{}}}={}$'.format(l,round(table['C_LINES'][il,],3)),\n",
    "                         horizontalalignment='center',alpha=0.1+0.9*table['C_LINES'][il])\n",
    "        patches = [mpatches.Patch(color='black', label='VI')]\n",
    "        patches += [mpatches.Patch(color='red', label='QN')]\n",
    "        ax.set_xlabel(r'$\\lambda_\\mathrm{obs}~[\\AA]$')\n",
    "        ax.set_ylabel(r'renormalised flux')\n",
    "        ax.set_xlim(3600,10000)\n",
    "        plt.legend(loc='lower left', handles=patches, fontsize=20)\n",
    "        plt.show()\n",
    "    return"
   ]
  },
  {
   "cell_type": "code",
   "execution_count": null,
   "metadata": {},
   "outputs": [],
   "source": [
    "plot_spectrum(QN_false_z)"
   ]
  },
  {
   "cell_type": "code",
   "execution_count": null,
   "metadata": {},
   "outputs": [],
   "source": []
  },
  {
   "cell_type": "code",
   "execution_count": null,
   "metadata": {},
   "outputs": [],
   "source": [
    "#flux histogram "
   ]
  },
  {
   "cell_type": "code",
   "execution_count": null,
   "metadata": {},
   "outputs": [],
   "source": []
  }
 ],
 "metadata": {
  "kernelspec": {
   "display_name": "picca_plots",
   "language": "python",
   "name": "picca_plots"
  },
  "language_info": {
   "codemirror_mode": {
    "name": "ipython",
    "version": 3
   },
   "file_extension": ".py",
   "mimetype": "text/x-python",
   "name": "python",
   "nbconvert_exporter": "python",
   "pygments_lexer": "ipython3",
   "version": "3.6.12"
  }
 },
 "nbformat": 4,
 "nbformat_minor": 4
}
